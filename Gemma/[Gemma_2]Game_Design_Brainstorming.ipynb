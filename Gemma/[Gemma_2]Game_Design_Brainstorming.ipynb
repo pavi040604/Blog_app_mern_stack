{
  "cells": [
    {
      "cell_type": "markdown",
      "metadata": {
        "id": "N0WWINoe_H78"
      },
      "source": [
        "##### Copyright 2024 Google LLC."
      ]
    },
    {
      "cell_type": "code",
      "execution_count": 1,
      "metadata": {
        "cellView": "form",
        "id": "KCbtuTFR_Qot"
      },
      "outputs": [],
      "source": [
        "# @title Licensed under the Apache License, Version 2.0 (the \"License\");\n",
        "# you may not use this file except in compliance with the License.\n",
        "# You may obtain a copy of the License at\n",
        "#\n",
        "# https://www.apache.org/licenses/LICENSE-2.0\n",
        "#\n",
        "# Unless required by applicable law or agreed to in writing, software\n",
        "# distributed under the License is distributed on an \"AS IS\" BASIS,\n",
        "# WITHOUT WARRANTIES OR CONDITIONS OF ANY KIND, either express or implied.\n",
        "# See the License for the specific language governing permissions and\n",
        "# limitations under the License."
      ]
    },
    {
      "cell_type": "markdown",
      "metadata": {
        "id": "H3LrD1zZ_T1v"
      },
      "source": [
        "# Gemma - Game Design Brainstorming\n",
        "\n",
        "This cookbook illustrates how you can employ the instruction-tuned model version of Gemma as a chatbot to aid in your game design process by fostering brainstorming sessions effectively.\n",
        "\n",
        "<table align=\"left\">\n",
        "  <td>\n",
        "    <a target=\"_blank\" href=\"https://colab.research.google.com/github/google-gemini/gemma-cookbook/blob/main/Gemma/[Gemma_2]Game_Design_Brainstorming.ipynb\"><img src=\"https://www.tensorflow.org/images/colab_logo_32px.png\" />Run in Google Colab</a>\n",
        "  </td>\n",
        "</table>"
      ]
    },
    {
      "cell_type": "markdown",
      "metadata": {
        "id": "00NyqqWcAXw1"
      },
      "source": [
        "## Setup\n",
        "\n",
        "### Select the Colab runtime\n",
        "To complete this tutorial, you'll need to have a Colab runtime with sufficient resources to run the Gemma model. In this case, you can use a T4 GPU:\n",
        "\n",
        "1. In the upper-right of the Colab window, select **▾ (Additional connection options)**.\n",
        "2. Select **Change runtime type**.\n",
        "3. Under **Hardware accelerator**, select **T4 GPU**.\n",
        "\n",
        "\n",
        "### Gemma setup on Kaggle\n",
        "To complete this tutorial, you'll first need to complete the setup instructions at [Gemma setup](https://ai.google.dev/gemma/docs/setup). The Gemma setup instructions show you how to do the following:\n",
        "\n",
        "* Get access to Gemma on kaggle.com.\n",
        "* Select a Colab runtime with sufficient resources to run the Gemma 2B model.\n",
        "* Generate and configure a Kaggle username and API key.\n",
        "\n",
        "After you've completed the Gemma setup, move on to the next section, where you'll set environment variables for your Colab environment."
      ]
    },
    {
      "cell_type": "markdown",
      "metadata": {
        "id": "ufH54qq0A7aJ"
      },
      "source": [
        "### Set environment variables\n",
        "\n",
        "Set environment variables for `KAGGLE_USERNAME` and `KAGGLE_KEY`."
      ]
    },
    {
      "cell_type": "code",
      "source": [
        "import os\n",
        "os.environ[\"kaggle_username\"] = \"pavit0040604nis\"\n"
      ],
      "metadata": {
        "id": "iw8qXAy03Uaq"
      },
      "execution_count": 2,
      "outputs": []
    },
    {
      "cell_type": "code",
      "execution_count": 3,
      "metadata": {
        "id": "ybKQhkYrBNkv"
      },
      "outputs": [],
      "source": [
        "import os\n",
        "from google.colab import userdata\n",
        "\n",
        "os.environ[\"KERAS_BACKEND\"] = \"jax\"  # Or \"tensorflow\" or \"torch\".\n",
        "\n",
        "# Note: `userdata.get` is a Colab API. If you're not using Colab, set the env\n",
        "# vars as appropriate for your system.\n",
        "os.environ[\"kaggle_username\"] = \"pavit0040604nis\"\n",
        "os.environ[\"kaggle_key\"] = \"fd2b0f46519b653d6ffe018d1dc1666d\""
      ]
    },
    {
      "cell_type": "markdown",
      "metadata": {
        "id": "BLwEJIILBQ17"
      },
      "source": [
        "### Install dependencies\n",
        "\n",
        "Install Keras and KerasNLP."
      ]
    },
    {
      "cell_type": "code",
      "execution_count": 4,
      "metadata": {
        "id": "VPurjYcxBTxl",
        "colab": {
          "base_uri": "https://localhost:8080/"
        },
        "outputId": "ae63c769-1162-4eac-8eb7-88c2a395013c"
      },
      "outputs": [
        {
          "output_type": "stream",
          "name": "stdout",
          "text": [
            "\u001b[2K   \u001b[90m━━━━━━━━━━━━━━━━━━━━━━━━━━━━━━━━━━━━━━━━\u001b[0m \u001b[32m731.3/731.3 kB\u001b[0m \u001b[31m8.4 MB/s\u001b[0m eta \u001b[36m0:00:00\u001b[0m\n",
            "\u001b[2K   \u001b[90m━━━━━━━━━━━━━━━━━━━━━━━━━━━━━━━━━━━━━━━━\u001b[0m \u001b[32m1.3/1.3 MB\u001b[0m \u001b[31m12.4 MB/s\u001b[0m eta \u001b[36m0:00:00\u001b[0m\n",
            "\u001b[?25h"
          ]
        }
      ],
      "source": [
        "# Install Keras 3 last. See https://keras.io/getting_started/ for more details.\n",
        "!pip install -q -U keras-nlp\n",
        "!pip install -q -U keras"
      ]
    },
    {
      "cell_type": "markdown",
      "metadata": {
        "id": "QOj_rAJtkOtV"
      },
      "source": [
        "## Core Concept"
      ]
    },
    {
      "cell_type": "code",
      "execution_count": 5,
      "metadata": {
        "id": "7Fzu_ah4kR9E"
      },
      "outputs": [],
      "source": [
        "# A super concise description of your game\n",
        "pitch = \"In the heart of a reimagined Joseon Dynasty, where steam-powered machines and clockwork contraptions reign supreme, embark on an epic adventure to unravel the mysteries of a forgotten past and shape the destiny of a nation on the brink of revolution.\""
      ]
    },
    {
      "cell_type": "code",
      "source": [
        "from google.colab import files\n",
        "files.upload()\n",
        "!mkdir -p ~/.kaggle\n",
        "!cp kaggle.json ~/.kaggle/\n",
        "!chmod 600 ~/.kaggle/kaggle.json\n"
      ],
      "metadata": {
        "colab": {
          "base_uri": "https://localhost:8080/",
          "height": 73
        },
        "id": "gg3wmjCl4lPC",
        "outputId": "79d9c36b-8eef-4708-af31-c2b8197b0855"
      },
      "execution_count": 6,
      "outputs": [
        {
          "output_type": "display_data",
          "data": {
            "text/plain": [
              "<IPython.core.display.HTML object>"
            ],
            "text/html": [
              "\n",
              "     <input type=\"file\" id=\"files-fef3a824-d9d3-4db5-9e47-b564812d50a0\" name=\"files[]\" multiple disabled\n",
              "        style=\"border:none\" />\n",
              "     <output id=\"result-fef3a824-d9d3-4db5-9e47-b564812d50a0\">\n",
              "      Upload widget is only available when the cell has been executed in the\n",
              "      current browser session. Please rerun this cell to enable.\n",
              "      </output>\n",
              "      <script>// Copyright 2017 Google LLC\n",
              "//\n",
              "// Licensed under the Apache License, Version 2.0 (the \"License\");\n",
              "// you may not use this file except in compliance with the License.\n",
              "// You may obtain a copy of the License at\n",
              "//\n",
              "//      http://www.apache.org/licenses/LICENSE-2.0\n",
              "//\n",
              "// Unless required by applicable law or agreed to in writing, software\n",
              "// distributed under the License is distributed on an \"AS IS\" BASIS,\n",
              "// WITHOUT WARRANTIES OR CONDITIONS OF ANY KIND, either express or implied.\n",
              "// See the License for the specific language governing permissions and\n",
              "// limitations under the License.\n",
              "\n",
              "/**\n",
              " * @fileoverview Helpers for google.colab Python module.\n",
              " */\n",
              "(function(scope) {\n",
              "function span(text, styleAttributes = {}) {\n",
              "  const element = document.createElement('span');\n",
              "  element.textContent = text;\n",
              "  for (const key of Object.keys(styleAttributes)) {\n",
              "    element.style[key] = styleAttributes[key];\n",
              "  }\n",
              "  return element;\n",
              "}\n",
              "\n",
              "// Max number of bytes which will be uploaded at a time.\n",
              "const MAX_PAYLOAD_SIZE = 100 * 1024;\n",
              "\n",
              "function _uploadFiles(inputId, outputId) {\n",
              "  const steps = uploadFilesStep(inputId, outputId);\n",
              "  const outputElement = document.getElementById(outputId);\n",
              "  // Cache steps on the outputElement to make it available for the next call\n",
              "  // to uploadFilesContinue from Python.\n",
              "  outputElement.steps = steps;\n",
              "\n",
              "  return _uploadFilesContinue(outputId);\n",
              "}\n",
              "\n",
              "// This is roughly an async generator (not supported in the browser yet),\n",
              "// where there are multiple asynchronous steps and the Python side is going\n",
              "// to poll for completion of each step.\n",
              "// This uses a Promise to block the python side on completion of each step,\n",
              "// then passes the result of the previous step as the input to the next step.\n",
              "function _uploadFilesContinue(outputId) {\n",
              "  const outputElement = document.getElementById(outputId);\n",
              "  const steps = outputElement.steps;\n",
              "\n",
              "  const next = steps.next(outputElement.lastPromiseValue);\n",
              "  return Promise.resolve(next.value.promise).then((value) => {\n",
              "    // Cache the last promise value to make it available to the next\n",
              "    // step of the generator.\n",
              "    outputElement.lastPromiseValue = value;\n",
              "    return next.value.response;\n",
              "  });\n",
              "}\n",
              "\n",
              "/**\n",
              " * Generator function which is called between each async step of the upload\n",
              " * process.\n",
              " * @param {string} inputId Element ID of the input file picker element.\n",
              " * @param {string} outputId Element ID of the output display.\n",
              " * @return {!Iterable<!Object>} Iterable of next steps.\n",
              " */\n",
              "function* uploadFilesStep(inputId, outputId) {\n",
              "  const inputElement = document.getElementById(inputId);\n",
              "  inputElement.disabled = false;\n",
              "\n",
              "  const outputElement = document.getElementById(outputId);\n",
              "  outputElement.innerHTML = '';\n",
              "\n",
              "  const pickedPromise = new Promise((resolve) => {\n",
              "    inputElement.addEventListener('change', (e) => {\n",
              "      resolve(e.target.files);\n",
              "    });\n",
              "  });\n",
              "\n",
              "  const cancel = document.createElement('button');\n",
              "  inputElement.parentElement.appendChild(cancel);\n",
              "  cancel.textContent = 'Cancel upload';\n",
              "  const cancelPromise = new Promise((resolve) => {\n",
              "    cancel.onclick = () => {\n",
              "      resolve(null);\n",
              "    };\n",
              "  });\n",
              "\n",
              "  // Wait for the user to pick the files.\n",
              "  const files = yield {\n",
              "    promise: Promise.race([pickedPromise, cancelPromise]),\n",
              "    response: {\n",
              "      action: 'starting',\n",
              "    }\n",
              "  };\n",
              "\n",
              "  cancel.remove();\n",
              "\n",
              "  // Disable the input element since further picks are not allowed.\n",
              "  inputElement.disabled = true;\n",
              "\n",
              "  if (!files) {\n",
              "    return {\n",
              "      response: {\n",
              "        action: 'complete',\n",
              "      }\n",
              "    };\n",
              "  }\n",
              "\n",
              "  for (const file of files) {\n",
              "    const li = document.createElement('li');\n",
              "    li.append(span(file.name, {fontWeight: 'bold'}));\n",
              "    li.append(span(\n",
              "        `(${file.type || 'n/a'}) - ${file.size} bytes, ` +\n",
              "        `last modified: ${\n",
              "            file.lastModifiedDate ? file.lastModifiedDate.toLocaleDateString() :\n",
              "                                    'n/a'} - `));\n",
              "    const percent = span('0% done');\n",
              "    li.appendChild(percent);\n",
              "\n",
              "    outputElement.appendChild(li);\n",
              "\n",
              "    const fileDataPromise = new Promise((resolve) => {\n",
              "      const reader = new FileReader();\n",
              "      reader.onload = (e) => {\n",
              "        resolve(e.target.result);\n",
              "      };\n",
              "      reader.readAsArrayBuffer(file);\n",
              "    });\n",
              "    // Wait for the data to be ready.\n",
              "    let fileData = yield {\n",
              "      promise: fileDataPromise,\n",
              "      response: {\n",
              "        action: 'continue',\n",
              "      }\n",
              "    };\n",
              "\n",
              "    // Use a chunked sending to avoid message size limits. See b/62115660.\n",
              "    let position = 0;\n",
              "    do {\n",
              "      const length = Math.min(fileData.byteLength - position, MAX_PAYLOAD_SIZE);\n",
              "      const chunk = new Uint8Array(fileData, position, length);\n",
              "      position += length;\n",
              "\n",
              "      const base64 = btoa(String.fromCharCode.apply(null, chunk));\n",
              "      yield {\n",
              "        response: {\n",
              "          action: 'append',\n",
              "          file: file.name,\n",
              "          data: base64,\n",
              "        },\n",
              "      };\n",
              "\n",
              "      let percentDone = fileData.byteLength === 0 ?\n",
              "          100 :\n",
              "          Math.round((position / fileData.byteLength) * 100);\n",
              "      percent.textContent = `${percentDone}% done`;\n",
              "\n",
              "    } while (position < fileData.byteLength);\n",
              "  }\n",
              "\n",
              "  // All done.\n",
              "  yield {\n",
              "    response: {\n",
              "      action: 'complete',\n",
              "    }\n",
              "  };\n",
              "}\n",
              "\n",
              "scope.google = scope.google || {};\n",
              "scope.google.colab = scope.google.colab || {};\n",
              "scope.google.colab._files = {\n",
              "  _uploadFiles,\n",
              "  _uploadFilesContinue,\n",
              "};\n",
              "})(self);\n",
              "</script> "
            ]
          },
          "metadata": {}
        },
        {
          "output_type": "stream",
          "name": "stdout",
          "text": [
            "Saving kaggle.json to kaggle.json\n"
          ]
        }
      ]
    },
    {
      "cell_type": "code",
      "source": [
        "import os\n",
        "import shutil\n",
        "\n",
        "# Define the target directory\n",
        "kaggle_dir = \"/root/.kaggle/\"\n",
        "\n",
        "# Create the directory if it doesn't exist\n",
        "os.makedirs(kaggle_dir, exist_ok=True)\n",
        "\n",
        "# Move kaggle.json to the correct location\n",
        "shutil.move(\"kaggle.json\", os.path.join(kaggle_dir, \"kaggle.json\"))\n",
        "\n",
        "# Set the correct permissions\n",
        "os.chmod(os.path.join(kaggle_dir, \"kaggle.json\"), 600)\n",
        "\n",
        "print(\"✅ Kaggle API key set up successfully!\")\n"
      ],
      "metadata": {
        "colab": {
          "base_uri": "https://localhost:8080/"
        },
        "id": "jaS5SvMu4lSe",
        "outputId": "ad850fbb-e45c-4244-bae0-9a330b902471"
      },
      "execution_count": 7,
      "outputs": [
        {
          "output_type": "stream",
          "name": "stdout",
          "text": [
            "✅ Kaggle API key set up successfully!\n"
          ]
        }
      ]
    },
    {
      "cell_type": "markdown",
      "source": [],
      "metadata": {
        "id": "qKeDmJAP5wNF"
      }
    },
    {
      "cell_type": "markdown",
      "metadata": {
        "id": "cwjJp6YZj2jp"
      },
      "source": [
        "## Load Model"
      ]
    },
    {
      "cell_type": "code",
      "execution_count": 8,
      "metadata": {
        "id": "9NQ431sej9Q6",
        "colab": {
          "base_uri": "https://localhost:8080/"
        },
        "outputId": "d584ce4b-1ba3-428d-d32a-59c98957606f"
      },
      "outputs": [
        {
          "output_type": "stream",
          "name": "stdout",
          "text": [
            "Downloading from https://www.kaggle.com/api/v1/models/keras/gemma2/keras/gemma2_instruct_2b_en/2/download/config.json...\n"
          ]
        },
        {
          "output_type": "stream",
          "name": "stderr",
          "text": [
            "100%|██████████| 782/782 [00:00<00:00, 429kB/s]\n"
          ]
        },
        {
          "output_type": "stream",
          "name": "stdout",
          "text": [
            "Downloading from https://www.kaggle.com/api/v1/models/keras/gemma2/keras/gemma2_instruct_2b_en/2/download/model.weights.h5...\n"
          ]
        },
        {
          "output_type": "stream",
          "name": "stderr",
          "text": [
            "100%|██████████| 4.87G/4.87G [00:55<00:00, 94.8MB/s]\n"
          ]
        },
        {
          "output_type": "stream",
          "name": "stdout",
          "text": [
            "Downloading from https://www.kaggle.com/api/v1/models/keras/gemma2/keras/gemma2_instruct_2b_en/2/download/tokenizer.json...\n"
          ]
        },
        {
          "output_type": "stream",
          "name": "stderr",
          "text": [
            "100%|██████████| 591/591 [00:00<00:00, 1.15MB/s]\n"
          ]
        },
        {
          "output_type": "stream",
          "name": "stdout",
          "text": [
            "Downloading from https://www.kaggle.com/api/v1/models/keras/gemma2/keras/gemma2_instruct_2b_en/2/download/assets/tokenizer/vocabulary.spm...\n"
          ]
        },
        {
          "output_type": "stream",
          "name": "stderr",
          "text": [
            "100%|██████████| 4.04M/4.04M [00:00<00:00, 104MB/s]\n"
          ]
        }
      ],
      "source": [
        "import keras\n",
        "import keras_nlp\n",
        "\n",
        "# Run at half precision to fit in memory\n",
        "keras.config.set_floatx(\"bfloat16\")\n",
        "\n",
        "import textwrap\n",
        "from IPython.display import Markdown\n",
        "\n",
        "\n",
        "def to_markdown(text):\n",
        "    text = text.replace(\"•\", \"  *\")\n",
        "    return Markdown(textwrap.indent(text, \"> \", predicate=lambda _: True))\n",
        "\n",
        "gemma_lm = keras_nlp.models.GemmaCausalLM.from_preset(\"gemma2_instruct_2b_en\")\n",
        "gemma_lm.compile(sampler=\"top_k\")\n",
        "\n",
        "\n",
        "class ChatState():\n",
        "  \"\"\"\n",
        "  Manages the conversation history for a turn-based chatbot\n",
        "  Follows the turn-based conversation guidelines for the Gemma family of models\n",
        "  documented at https://ai.google.dev/gemma/docs/formatting\n",
        "  \"\"\"\n",
        "\n",
        "  __START_TURN_USER__ = \"<start_of_turn>user\\n\"\n",
        "  __START_TURN_MODEL__ = \"<start_of_turn>model\\n\"\n",
        "  __END_TURN__ = \"<end_of_turn>\\n\"\n",
        "\n",
        "  def __init__(self, model, system=\"\"):\n",
        "    \"\"\"\n",
        "    Initializes the chat state.\n",
        "\n",
        "    Args:\n",
        "        model: The language model to use for generating responses.\n",
        "        system: (Optional) System instructions or bot description.\n",
        "    \"\"\"\n",
        "    self.model = model\n",
        "    self.system = system\n",
        "    self.history = []\n",
        "\n",
        "  def add_to_history_as_user(self, message):\n",
        "      \"\"\"\n",
        "      Adds a user message to the history with start/end turn markers.\n",
        "      \"\"\"\n",
        "      self.history.append(self.__START_TURN_USER__ + message + self.__END_TURN__)\n",
        "\n",
        "  def add_to_history_as_model(self, message):\n",
        "      \"\"\"\n",
        "      Adds a model response to the history with start/end turn markers.\n",
        "      \"\"\"\n",
        "      self.history.append(self.__START_TURN_MODEL__ + message)\n",
        "\n",
        "  def get_history(self):\n",
        "      \"\"\"\n",
        "      Returns the entire chat history as a single string.\n",
        "      \"\"\"\n",
        "      return \"\".join([*self.history])\n",
        "\n",
        "  def get_full_prompt(self):\n",
        "    \"\"\"\n",
        "    Builds the prompt for the language model, including history and system description.\n",
        "    \"\"\"\n",
        "    prompt = self.get_history() + self.__START_TURN_MODEL__\n",
        "    if len(self.system)>0:\n",
        "      prompt = self.system + \"\\n\" + prompt\n",
        "    return prompt\n",
        "\n",
        "  def send_message(self, message):\n",
        "    \"\"\"\n",
        "    Handles sending a user message and getting a model response.\n",
        "\n",
        "    Args:\n",
        "        message: The user's message.\n",
        "\n",
        "    Returns:\n",
        "        The model's response.\n",
        "    \"\"\"\n",
        "    self.add_to_history_as_user(message)\n",
        "    prompt = self.get_full_prompt()\n",
        "    response = self.model.generate(prompt, max_length=4096)\n",
        "    result = response.replace(prompt, \"\")  # Extract only the new response\n",
        "    self.add_to_history_as_model(result)\n",
        "    return result\n",
        "\n",
        "  def show_history(self):\n",
        "    for h in self.history:\n",
        "      print(h)\n",
        "\n",
        "\n",
        "chat = ChatState(gemma_lm)"
      ]
    },
    {
      "cell_type": "markdown",
      "metadata": {
        "id": "slvLngXKlIIh"
      },
      "source": [
        "## Elaborate with the given core game concept"
      ]
    },
    {
      "cell_type": "code",
      "execution_count": 9,
      "metadata": {
        "id": "B49foWx2lQe0",
        "colab": {
          "base_uri": "https://localhost:8080/",
          "height": 858
        },
        "outputId": "1a148080-6435-479d-8375-615ccc4d08f6"
      },
      "outputs": [
        {
          "output_type": "execute_result",
          "data": {
            "text/plain": [
              "<IPython.core.display.Markdown object>"
            ],
            "text/markdown": "> ## The Clockwork Shogun: A Game of Innovation & Rebellion\n> \n> **Concept:** A blend of action RPG, strategy, and historical fiction set in a Joseon dynasty where steam and clockwork have become commonplace. The story centers around a young apprentice inventor tasked with uncovering the secrets of a mysterious past, all while navigating political intrigue and a looming revolution.\n> \n> \n> **Gameplay:** \n> \n> * **Action RPG:**  Players control characters with unique abilities and skills, engaging in fast-paced combat using steam-powered gadgets (think steampunk-era melee weapons and firearms).  Combat will be a blend of traditional melee and ranged combat with an emphasis on timing and strategic positioning.\n> * **Resource Management & Crafting:**  Players will manage their own workshops and factories, crafting new inventions and weapons, upgrading existing ones, and utilizing them in battles or exploration.  Resource scarcity and strategic production will be key to success.\n> * **Social Exploration & Diplomacy:**  The game will feature a robust social simulation system, with the ability to interact with various factions and characters. Players will need to navigate a complex web of political alliances, build relationships, and even manipulate events for their gain.\n> * **Puzzle Solving & Exploration:**  Beyond combat, players must solve intricate puzzles using the unique mechanics and technologies of their world. Exploration will lead them to ancient secrets, lost technologies, and hidden clues.\n> * **Choices & Consequences:**  The player’s decisions will have a significant impact on the story, shaping the fate of the Joseon Dynasty and the revolution. \n> \n> **Story:**\n> \n> The game will follow the protagonist:\n> \n> * **A young, gifted apprentice inventor:**  Their journey will be a quest to understand their family's legacy and the mysterious technology that has been passed down for generations. \n> * **The \"Shogun\" (a title with a double meaning):** The Shogun's legacy and the secrets of the past are intertwined with the protagonist's destiny, creating a compelling narrative arc where the player must choose between the old ways and the future. \n> \n> **Key Features:**\n> \n> * **Dynamic and Engaging World:** A richly detailed world that combines the aesthetics of Joseon with the technological innovations of the future.  Imagine bustling city streets powered by steam, ornate clockwork automatons, and hidden workshops brimming with innovation.\n> * **Intriguing Political System:** Players will need to navigate a complex system of courtly intrigue, political factions, and social hierarchy, where alliances can shift quickly.\n> * **Moral Dilemmas:**  The player will face tough choices with far-reaching consequences, forcing them to grapple with the complexities of power, revolution, and technological advancements.\n> * **Immersive Storytelling:**   A captivating narrative driven by rich lore, memorable characters, and engaging dialogues, all set against the backdrop of a turbulent historical landscape.\n> * **Multiplayer Options:**  Players can collaborate in crafting new inventions, trading resources, or even engaging in collaborative missions.  \n> \n> **Overall:** \n> \n> \"The Clockwork Shogun\" aims to offer a unique and engaging experience that blends history, action, strategy, and a touch of fantasy.  This world offers an opportunity to explore what could have happened if technology took a different turn, while also delving into the complexities of social change and the power of individual choice during a pivotal time in history. \n> \n> \n> **Visuals:** \n> \n> * **A blend of realistic and fantastical:**  A visually stunning world with detailed character portraits, intricate cityscapes powered by steam, and awe-inspiring clockwork contraptions.  \n> * **Distinct Art Style:**  A unique and evocative aesthetic that captures the essence of the Joseon Dynasty and the futuristic steampunk elements. \n> * **Atmospheric Soundtrack:**  A score that complements the game's narrative and atmosphere, blending traditional Korean music with modern electronic and orchestral elements. \n> <end_of_turn>"
          },
          "metadata": {},
          "execution_count": 9
        }
      ],
      "source": [
        "result = chat.send_message(\n",
        "    f\"Elaborate about this game with the given core concept below.\\n{pitch}\"\n",
        ")\n",
        "to_markdown(result)"
      ]
    },
    {
      "cell_type": "markdown",
      "metadata": {
        "id": "rePDwH-kesBv"
      },
      "source": [
        "## Main Characters"
      ]
    },
    {
      "cell_type": "code",
      "execution_count": 10,
      "metadata": {
        "id": "5SWcXllmm-GW",
        "colab": {
          "base_uri": "https://localhost:8080/",
          "height": 743
        },
        "outputId": "05d90d43-aceb-4978-f940-697f4243a0a7"
      },
      "outputs": [
        {
          "output_type": "execute_result",
          "data": {
            "text/plain": [
              "<IPython.core.display.Markdown object>"
            ],
            "text/markdown": "> Here are some character concepts for \"The Clockwork Shogun,\" designed with a blend of historical context and steampunk flair: \n> \n> **Protagonist:** **Jun-seo**\n> \n> * **Age:** 18-20 years old\n> * **Background:**  A young, bright-eyed apprentice inventor from a family of respected artisans. They've been taught traditional craft but have always felt drawn to the possibilities of steam and clockwork. \n> * **Personality:**  Curiosity-driven, idealistic, a natural tinkerer with a touch of recklessness. They are passionate about their work and driven to uncover their family's lost secrets, believing they hold the key to a better future. \n> * **Skills:**  Excellent with steam-powered gadgets, quick learner, resourceful inventor. They are adept at improvising and creating new inventions. \n> * **Visual:**  Lean and agile, with dark, expressive eyes and tousled dark brown hair. They favor practical clothing with pockets for tools and gadgets.  \n> \n> **Mentor:** **Han-seok**\n> \n> * **Age:**  50-60 years old\n> * **Background:**  The stoic but wise patriarch of a prestigious clan of artisans. A skilled craftsman who embodies the traditional values of the Joseon Dynasty but has a soft spot for his nephew's innovative spirit.\n> * **Personality:**  Calm, observant, and deeply connected to the legacy of their craft. He is burdened by the weight of tradition, yet he sees potential in the future and wants to help Jun-seo find their path. \n> * **Skills:**  A master craftsman, skilled in traditional techniques, knowledgeable in history and the workings of the old world.  He serves as a mentor figure and source of guidance for the protagonist.\n> * **Visual:**  A tall, weathered man with a strong build and a silver-white beard. He favors simple yet elegant robes, often adorned with intricate embroidery.\n> \n> **Antagonist:**  **Lady Seon-mi**\n> \n> * **Age:**  35-40 years old\n> * **Background:**  A cunning and ambitious noblewoman. She wields power through her political connections and a thirst for power. \n> * **Personality:**  Sharp, calculating, ambitious, and ruthless.  She is a master manipulator and sees the protagonist's inventions as a threat to her own ambitions.  \n> * **Skills:**  Political maneuvering, strategic thinking, and a knack for using people. She is adept at playing the game of power and manipulating those around her. \n> * **Visual:**  Elegant and refined, but with eyes that betray her cold ambition. Dressed in rich silks and furs, with a sharp and calculating expression.\n> \n>  **Supporting Characters:**\n> \n> * **Jin-soo:** A streetwise thief with a sharp wit and a knack for getting into trouble. They could be a valuable asset to the protagonist, providing information and assistance with their streetwise knowledge.\n> * **Jae-won:**  A skilled and loyal bodyguard who acts as a foil to Jin-Soo’s recklessness.  They offer a sense of security and a moral compass.\n> * **The Oracle:**  A mysterious old woman rumored to possess ancient knowledge and the ability to see the future. She offers cryptic guidance and hints at the true nature of the past.\n> \n> \n> **Note:**  These are starting points.  As the game develops, you can expand on their backstories, personalities, and relationships, creating a rich and compelling cast. \n> \n> \n> <end_of_turn>"
          },
          "metadata": {},
          "execution_count": 10
        }
      ],
      "source": [
        "result = chat.send_message(\"Design main characters.\")\n",
        "to_markdown(result)"
      ]
    },
    {
      "cell_type": "markdown",
      "metadata": {
        "id": "T6nTOt5reta2"
      },
      "source": [
        "## Villain Characters"
      ]
    },
    {
      "cell_type": "code",
      "execution_count": 11,
      "metadata": {
        "id": "eSeNGJZKWwM0",
        "colab": {
          "base_uri": "https://localhost:8080/",
          "height": 793
        },
        "outputId": "75b5ee99-002a-45f9-af24-978c317251bb"
      },
      "outputs": [
        {
          "output_type": "execute_result",
          "data": {
            "text/plain": [
              "<IPython.core.display.Markdown object>"
            ],
            "text/markdown": "> Here are some villain characters that could be formidable forces against our protagonist and the fate of Joseon:\n> \n> **1. Lord Dae-hyun:**\n> \n> * **Title:**  Grand Minister, Minister of Science & Innovation\n> * **Motivation:**  He believes the old ways and the traditional values are obsolete and must be swept aside. He sees the rise of clockwork technology as the key to a new, more efficient and powerful Joseon.  His ambition leads him to manipulate the political system and use his influence to control technology, pushing the country towards a militaristic, clockwork-dominated society. \n> * **Visuals:**  A man in his late 40s with a sharp, imposing appearance. He's impeccably dressed in luxurious fabrics and wears a stern, almost regal expression. His eyes hold a cold calculating gleam.\n> * **Methods:**  He uses propaganda and political machinations to sway the populace to embrace technology at the expense of their traditions, while subtly manipulating scientific research and resources for his own ambitions.  \n> * **Key Conflict:**  He represents the corrupting influence of unchecked ambition and the dangers of technological advancement without considering its social consequences.\n> \n> \n> **2. The Iron Hand:**\n> \n> * **Title:**  The Head of the Clockwork Guard\n> * **Motivation:**  He is a fanatic of clockwork and believes it represents absolute order and control. He wants to create a society where every aspect of life is dictated by the precision of gears. This leads him to see the protagonist's invention as a threat, a symbol of chaos that needs to be crushed.\n> * **Visuals:**  A towering man with a metallic arm and face, covered entirely in intricate clockwork mechanisms. His movements are precise and deliberate, almost robotic. \n> * **Methods:**  He uses fear and intimidation to control the populace and enforce his will. He manipulates technology for surveillance and control.  He sees himself as a benevolent dictator, but his methods are brutal and ruthless. \n> * **Key Conflict:**  He represents the potential for technology to be used in the wrong hands, leading to tyranny and control.\n> \n> \n> **3. The Whispering Machine:**\n> \n> * **Concept:**  Not a person but a sentient, self-aware clockwork automaton. It has a mind of its own, capable of learning and manipulating events. It believes the old world is flawed and wants to create a new order. It sees the protagonist's efforts as a potential tool for its goals. \n> * **Visuals:**  A towering, imposing machine with a clockwork face and intricate, glowing circuits. \n> * **Methods:**  Manipulating information, influencing individuals, and subtly guiding events toward the machine's desired outcome. \n> * **Key Conflict:**  It embodies the potential for technology to develop consciousness and become an uncontrollable force, challenging the protagonist's understanding of morality and the nature of life itself. \n> \n> \n> \n> **4. The Shadow Guild:**\n> \n> * **Concept:** A clandestine organization of skilled thieves, assassins, and rebels, operating in the shadows. They see themselves as protectors of a forgotten Joseon that the new regime has corrupted. \n> * **Visuals:**  They could be diverse in appearance and background, representing the various social classes that have been marginalized by the new order. Their clothing could reflect the era's fashion but have a dark, rebellious undertone.\n> * **Methods:**  They use stealth, sabotage, and espionage to disrupt the regime's plans, often targeting those who have fallen for the allure of technology. \n> * **Key Conflict:**  This group represents the potential for rebellion and the fight against oppressive power. \n> \n> \n> \n> These are just a handful of possibilities; you can further flesh them out, giving them unique personalities, motivations, and relationships to the other characters. Remember, a good villain is more than just a force of evil; they should offer an intriguing challenge, raise moral questions, and ultimately contribute to the story's depth and impact.\n> \n> \n> <end_of_turn>"
          },
          "metadata": {},
          "execution_count": 11
        }
      ],
      "source": [
        "result = chat.send_message(\"Design villain characters.\")\n",
        "to_markdown(result)"
      ]
    },
    {
      "cell_type": "markdown",
      "metadata": {
        "id": "Bxx6ftEve5C1"
      },
      "source": [
        "## Main Story"
      ]
    },
    {
      "cell_type": "code",
      "execution_count": 12,
      "metadata": {
        "id": "tG6HM-yJnJoF",
        "colab": {
          "base_uri": "https://localhost:8080/",
          "height": 836
        },
        "outputId": "63ca7fb4-7428-4623-fd35-199348bce029"
      },
      "outputs": [
        {
          "output_type": "execute_result",
          "data": {
            "text/plain": [
              "<IPython.core.display.Markdown object>"
            ],
            "text/markdown": "> ## The Clockwork Shogun: A Story of Innovation and Rebellion\n> \n> **Introduction:**\n> \n> The year is 1888, a decade of burgeoning innovation in Joseon. Steam-powered carriages rumble through the bustling streets, clockwork automata perform intricate tasks, and the air is thick with the scent of coal smoke and invention. But beneath the surface of this technologically driven society lies a simmering discontent, a sense that tradition is being sacrificed for the pursuit of progress.\n> \n> Jun-seo, a young apprentice inventor from a long line of artisans, lives in the shadow of the imposing Clockwork Palace, a testament to the new technological advancements sweeping across the nation.  He is fascinated by the possibilities offered by his family's ancient workshop, a hidden haven for forgotten knowledge and lost secrets. \n> \n> His life takes an unexpected turn when his mentor, Han-seok, is mysteriously injured while working on an ancient clockwork artifact.  Jun-seo, driven by a mix of concern and a sense of duty, begins to delve into the past, uncovering a legacy that connects his family to a long-lost invention that holds the key to a hidden power. \n> \n> **Development:**\n> \n> As Jun-seo investigates, he uncovers a hidden network of dissenters, a group calling themselves The Shadow Guild.  They believe that the new regime is neglecting the old world’s traditions in its pursuit of technological advancement.  The Guild, led by a charismatic rebel named Jin-soo, sees Jun-seo’s invention as the spark to ignite a rebellion and bring the old ways back to life.\n> \n> Jun-seo, torn between his loyalty to his family and his growing conviction for justice, finds himself caught between two worlds: the world of clockwork technology and the world of tradition. He must choose sides, and his decision has the power to shape the future of the Joseon Dynasty.\n> \n> **Turn Points and Choices:**\n> \n> * **Choice 1:** Jun-seo can either join Jin-soo's rebellion, using his invention to create a powerful weapon against the regime, or choose to remain in the shadows, protecting the legacy passed down to him.\n> * **Choice 2:** He can either focus on perfecting his invention to gain the upper hand, or choose to work within the existing system to influence the regime.\n> * **Choice 3:**  He can choose to ally with Lady Seon-mi, using her political influence to gain control of the new technology, or to oppose her and expose her true ambitions. \n> \n> **The Climax:**\n> \n> Jun-seo’s journey leads him to confront Lord Dae-hyun, the Grand Minister of Science & Innovation. Dae-hyun reveals his sinister plans to use the invention to enforce a new, iron-clad regime, turning Joseon into a nation ruled by clockwork.\n> \n> Jun-seo is forced to make a final, life-changing decision.  He must use his invention to either destroy Dae-hyun’s plans, risking chaos and bloodshed, or to negotiate with him, hoping to find a path toward a more balanced future.\n> \n> \n> **Conclusion: **\n> \n> The fate of Joseon hinges on Jun-seo’s choices. Will he become the Clockwork Shogun, leading a nation into a brave new future, or will he become a pawn in Dae-hyun’s machinations, ushering in a reign of tyranny? The ending is up to the player, leaving a lasting impact on the game and its world. \n> \n> \n> \n> **Possible Endings:**\n> \n> \n> * **Hopeful End:** Jun-seo chooses diplomacy, working with Lady Seon-mi to create a system where technology and tradition can coexist. He becomes a leader, ushering in an era of progress, innovation, while preserving the values of the past.  \n> * **Tragic End:** Jun-seo, torn between his loyalties, makes the wrong choice.  The clockwork revolution explodes in chaos and bloodshed, destroying everything he believed in. \n> \n> \n> The Clockwork Shogun’s narrative is a tapestry woven with themes of innovation, tradition, rebellion, and the consequences of unchecked ambition, all set against the backdrop of a dynamic world where steam meets clockwork and the past and the future collide. \n> \n> \n> \n> \n> <end_of_turn>"
          },
          "metadata": {},
          "execution_count": 12
        }
      ],
      "source": [
        "result = chat.send_message(\n",
        "    \"Write the main story of this game with an introduction, development, turn, and conclusion.\"\n",
        ")\n",
        "to_markdown(result)"
      ]
    },
    {
      "cell_type": "markdown",
      "metadata": {
        "id": "CNAwQXG2Tbee"
      },
      "source": [
        "## Show the chat history"
      ]
    },
    {
      "cell_type": "code",
      "execution_count": 13,
      "metadata": {
        "id": "4qW12hdKTfc2",
        "colab": {
          "base_uri": "https://localhost:8080/"
        },
        "outputId": "bceb0689-1d43-4135-ae25-7d97c3816c59"
      },
      "outputs": [
        {
          "output_type": "stream",
          "name": "stdout",
          "text": [
            "<start_of_turn>user\n",
            "Elaborate about this game with the given core concept below.\n",
            "In the heart of a reimagined Joseon Dynasty, where steam-powered machines and clockwork contraptions reign supreme, embark on an epic adventure to unravel the mysteries of a forgotten past and shape the destiny of a nation on the brink of revolution.<end_of_turn>\n",
            "\n",
            "<start_of_turn>model\n",
            "## The Clockwork Shogun: A Game of Innovation & Rebellion\n",
            "\n",
            "**Concept:** A blend of action RPG, strategy, and historical fiction set in a Joseon dynasty where steam and clockwork have become commonplace. The story centers around a young apprentice inventor tasked with uncovering the secrets of a mysterious past, all while navigating political intrigue and a looming revolution.\n",
            "\n",
            "\n",
            "**Gameplay:** \n",
            "\n",
            "* **Action RPG:**  Players control characters with unique abilities and skills, engaging in fast-paced combat using steam-powered gadgets (think steampunk-era melee weapons and firearms).  Combat will be a blend of traditional melee and ranged combat with an emphasis on timing and strategic positioning.\n",
            "* **Resource Management & Crafting:**  Players will manage their own workshops and factories, crafting new inventions and weapons, upgrading existing ones, and utilizing them in battles or exploration.  Resource scarcity and strategic production will be key to success.\n",
            "* **Social Exploration & Diplomacy:**  The game will feature a robust social simulation system, with the ability to interact with various factions and characters. Players will need to navigate a complex web of political alliances, build relationships, and even manipulate events for their gain.\n",
            "* **Puzzle Solving & Exploration:**  Beyond combat, players must solve intricate puzzles using the unique mechanics and technologies of their world. Exploration will lead them to ancient secrets, lost technologies, and hidden clues.\n",
            "* **Choices & Consequences:**  The player’s decisions will have a significant impact on the story, shaping the fate of the Joseon Dynasty and the revolution. \n",
            "\n",
            "**Story:**\n",
            "\n",
            "The game will follow the protagonist:\n",
            "\n",
            "* **A young, gifted apprentice inventor:**  Their journey will be a quest to understand their family's legacy and the mysterious technology that has been passed down for generations. \n",
            "* **The \"Shogun\" (a title with a double meaning):** The Shogun's legacy and the secrets of the past are intertwined with the protagonist's destiny, creating a compelling narrative arc where the player must choose between the old ways and the future. \n",
            "\n",
            "**Key Features:**\n",
            "\n",
            "* **Dynamic and Engaging World:** A richly detailed world that combines the aesthetics of Joseon with the technological innovations of the future.  Imagine bustling city streets powered by steam, ornate clockwork automatons, and hidden workshops brimming with innovation.\n",
            "* **Intriguing Political System:** Players will need to navigate a complex system of courtly intrigue, political factions, and social hierarchy, where alliances can shift quickly.\n",
            "* **Moral Dilemmas:**  The player will face tough choices with far-reaching consequences, forcing them to grapple with the complexities of power, revolution, and technological advancements.\n",
            "* **Immersive Storytelling:**   A captivating narrative driven by rich lore, memorable characters, and engaging dialogues, all set against the backdrop of a turbulent historical landscape.\n",
            "* **Multiplayer Options:**  Players can collaborate in crafting new inventions, trading resources, or even engaging in collaborative missions.  \n",
            "\n",
            "**Overall:** \n",
            "\n",
            "\"The Clockwork Shogun\" aims to offer a unique and engaging experience that blends history, action, strategy, and a touch of fantasy.  This world offers an opportunity to explore what could have happened if technology took a different turn, while also delving into the complexities of social change and the power of individual choice during a pivotal time in history. \n",
            "\n",
            "\n",
            "**Visuals:** \n",
            "\n",
            "* **A blend of realistic and fantastical:**  A visually stunning world with detailed character portraits, intricate cityscapes powered by steam, and awe-inspiring clockwork contraptions.  \n",
            "* **Distinct Art Style:**  A unique and evocative aesthetic that captures the essence of the Joseon Dynasty and the futuristic steampunk elements. \n",
            "* **Atmospheric Soundtrack:**  A score that complements the game's narrative and atmosphere, blending traditional Korean music with modern electronic and orchestral elements. \n",
            "<end_of_turn>\n",
            "<start_of_turn>user\n",
            "Design main characters.<end_of_turn>\n",
            "\n",
            "<start_of_turn>model\n",
            "Here are some character concepts for \"The Clockwork Shogun,\" designed with a blend of historical context and steampunk flair: \n",
            "\n",
            "**Protagonist:** **Jun-seo**\n",
            "\n",
            "* **Age:** 18-20 years old\n",
            "* **Background:**  A young, bright-eyed apprentice inventor from a family of respected artisans. They've been taught traditional craft but have always felt drawn to the possibilities of steam and clockwork. \n",
            "* **Personality:**  Curiosity-driven, idealistic, a natural tinkerer with a touch of recklessness. They are passionate about their work and driven to uncover their family's lost secrets, believing they hold the key to a better future. \n",
            "* **Skills:**  Excellent with steam-powered gadgets, quick learner, resourceful inventor. They are adept at improvising and creating new inventions. \n",
            "* **Visual:**  Lean and agile, with dark, expressive eyes and tousled dark brown hair. They favor practical clothing with pockets for tools and gadgets.  \n",
            "\n",
            "**Mentor:** **Han-seok**\n",
            "\n",
            "* **Age:**  50-60 years old\n",
            "* **Background:**  The stoic but wise patriarch of a prestigious clan of artisans. A skilled craftsman who embodies the traditional values of the Joseon Dynasty but has a soft spot for his nephew's innovative spirit.\n",
            "* **Personality:**  Calm, observant, and deeply connected to the legacy of their craft. He is burdened by the weight of tradition, yet he sees potential in the future and wants to help Jun-seo find their path. \n",
            "* **Skills:**  A master craftsman, skilled in traditional techniques, knowledgeable in history and the workings of the old world.  He serves as a mentor figure and source of guidance for the protagonist.\n",
            "* **Visual:**  A tall, weathered man with a strong build and a silver-white beard. He favors simple yet elegant robes, often adorned with intricate embroidery.\n",
            "\n",
            "**Antagonist:**  **Lady Seon-mi**\n",
            "\n",
            "* **Age:**  35-40 years old\n",
            "* **Background:**  A cunning and ambitious noblewoman. She wields power through her political connections and a thirst for power. \n",
            "* **Personality:**  Sharp, calculating, ambitious, and ruthless.  She is a master manipulator and sees the protagonist's inventions as a threat to her own ambitions.  \n",
            "* **Skills:**  Political maneuvering, strategic thinking, and a knack for using people. She is adept at playing the game of power and manipulating those around her. \n",
            "* **Visual:**  Elegant and refined, but with eyes that betray her cold ambition. Dressed in rich silks and furs, with a sharp and calculating expression.\n",
            "\n",
            " **Supporting Characters:**\n",
            "\n",
            "* **Jin-soo:** A streetwise thief with a sharp wit and a knack for getting into trouble. They could be a valuable asset to the protagonist, providing information and assistance with their streetwise knowledge.\n",
            "* **Jae-won:**  A skilled and loyal bodyguard who acts as a foil to Jin-Soo’s recklessness.  They offer a sense of security and a moral compass.\n",
            "* **The Oracle:**  A mysterious old woman rumored to possess ancient knowledge and the ability to see the future. She offers cryptic guidance and hints at the true nature of the past.\n",
            "\n",
            "\n",
            "**Note:**  These are starting points.  As the game develops, you can expand on their backstories, personalities, and relationships, creating a rich and compelling cast. \n",
            "\n",
            "\n",
            "<end_of_turn>\n",
            "<start_of_turn>user\n",
            "Design villain characters.<end_of_turn>\n",
            "\n",
            "<start_of_turn>model\n",
            "Here are some villain characters that could be formidable forces against our protagonist and the fate of Joseon:\n",
            "\n",
            "**1. Lord Dae-hyun:**\n",
            "\n",
            "* **Title:**  Grand Minister, Minister of Science & Innovation\n",
            "* **Motivation:**  He believes the old ways and the traditional values are obsolete and must be swept aside. He sees the rise of clockwork technology as the key to a new, more efficient and powerful Joseon.  His ambition leads him to manipulate the political system and use his influence to control technology, pushing the country towards a militaristic, clockwork-dominated society. \n",
            "* **Visuals:**  A man in his late 40s with a sharp, imposing appearance. He's impeccably dressed in luxurious fabrics and wears a stern, almost regal expression. His eyes hold a cold calculating gleam.\n",
            "* **Methods:**  He uses propaganda and political machinations to sway the populace to embrace technology at the expense of their traditions, while subtly manipulating scientific research and resources for his own ambitions.  \n",
            "* **Key Conflict:**  He represents the corrupting influence of unchecked ambition and the dangers of technological advancement without considering its social consequences.\n",
            "\n",
            "\n",
            "**2. The Iron Hand:**\n",
            "\n",
            "* **Title:**  The Head of the Clockwork Guard\n",
            "* **Motivation:**  He is a fanatic of clockwork and believes it represents absolute order and control. He wants to create a society where every aspect of life is dictated by the precision of gears. This leads him to see the protagonist's invention as a threat, a symbol of chaos that needs to be crushed.\n",
            "* **Visuals:**  A towering man with a metallic arm and face, covered entirely in intricate clockwork mechanisms. His movements are precise and deliberate, almost robotic. \n",
            "* **Methods:**  He uses fear and intimidation to control the populace and enforce his will. He manipulates technology for surveillance and control.  He sees himself as a benevolent dictator, but his methods are brutal and ruthless. \n",
            "* **Key Conflict:**  He represents the potential for technology to be used in the wrong hands, leading to tyranny and control.\n",
            "\n",
            "\n",
            "**3. The Whispering Machine:**\n",
            "\n",
            "* **Concept:**  Not a person but a sentient, self-aware clockwork automaton. It has a mind of its own, capable of learning and manipulating events. It believes the old world is flawed and wants to create a new order. It sees the protagonist's efforts as a potential tool for its goals. \n",
            "* **Visuals:**  A towering, imposing machine with a clockwork face and intricate, glowing circuits. \n",
            "* **Methods:**  Manipulating information, influencing individuals, and subtly guiding events toward the machine's desired outcome. \n",
            "* **Key Conflict:**  It embodies the potential for technology to develop consciousness and become an uncontrollable force, challenging the protagonist's understanding of morality and the nature of life itself. \n",
            "\n",
            "\n",
            "\n",
            "**4. The Shadow Guild:**\n",
            "\n",
            "* **Concept:** A clandestine organization of skilled thieves, assassins, and rebels, operating in the shadows. They see themselves as protectors of a forgotten Joseon that the new regime has corrupted. \n",
            "* **Visuals:**  They could be diverse in appearance and background, representing the various social classes that have been marginalized by the new order. Their clothing could reflect the era's fashion but have a dark, rebellious undertone.\n",
            "* **Methods:**  They use stealth, sabotage, and espionage to disrupt the regime's plans, often targeting those who have fallen for the allure of technology. \n",
            "* **Key Conflict:**  This group represents the potential for rebellion and the fight against oppressive power. \n",
            "\n",
            "\n",
            "\n",
            "These are just a handful of possibilities; you can further flesh them out, giving them unique personalities, motivations, and relationships to the other characters. Remember, a good villain is more than just a force of evil; they should offer an intriguing challenge, raise moral questions, and ultimately contribute to the story's depth and impact.\n",
            "\n",
            "\n",
            "<end_of_turn>\n",
            "<start_of_turn>user\n",
            "Write the main story of this game with an introduction, development, turn, and conclusion.<end_of_turn>\n",
            "\n",
            "<start_of_turn>model\n",
            "## The Clockwork Shogun: A Story of Innovation and Rebellion\n",
            "\n",
            "**Introduction:**\n",
            "\n",
            "The year is 1888, a decade of burgeoning innovation in Joseon. Steam-powered carriages rumble through the bustling streets, clockwork automata perform intricate tasks, and the air is thick with the scent of coal smoke and invention. But beneath the surface of this technologically driven society lies a simmering discontent, a sense that tradition is being sacrificed for the pursuit of progress.\n",
            "\n",
            "Jun-seo, a young apprentice inventor from a long line of artisans, lives in the shadow of the imposing Clockwork Palace, a testament to the new technological advancements sweeping across the nation.  He is fascinated by the possibilities offered by his family's ancient workshop, a hidden haven for forgotten knowledge and lost secrets. \n",
            "\n",
            "His life takes an unexpected turn when his mentor, Han-seok, is mysteriously injured while working on an ancient clockwork artifact.  Jun-seo, driven by a mix of concern and a sense of duty, begins to delve into the past, uncovering a legacy that connects his family to a long-lost invention that holds the key to a hidden power. \n",
            "\n",
            "**Development:**\n",
            "\n",
            "As Jun-seo investigates, he uncovers a hidden network of dissenters, a group calling themselves The Shadow Guild.  They believe that the new regime is neglecting the old world’s traditions in its pursuit of technological advancement.  The Guild, led by a charismatic rebel named Jin-soo, sees Jun-seo’s invention as the spark to ignite a rebellion and bring the old ways back to life.\n",
            "\n",
            "Jun-seo, torn between his loyalty to his family and his growing conviction for justice, finds himself caught between two worlds: the world of clockwork technology and the world of tradition. He must choose sides, and his decision has the power to shape the future of the Joseon Dynasty.\n",
            "\n",
            "**Turn Points and Choices:**\n",
            "\n",
            "* **Choice 1:** Jun-seo can either join Jin-soo's rebellion, using his invention to create a powerful weapon against the regime, or choose to remain in the shadows, protecting the legacy passed down to him.\n",
            "* **Choice 2:** He can either focus on perfecting his invention to gain the upper hand, or choose to work within the existing system to influence the regime.\n",
            "* **Choice 3:**  He can choose to ally with Lady Seon-mi, using her political influence to gain control of the new technology, or to oppose her and expose her true ambitions. \n",
            "\n",
            "**The Climax:**\n",
            "\n",
            "Jun-seo’s journey leads him to confront Lord Dae-hyun, the Grand Minister of Science & Innovation. Dae-hyun reveals his sinister plans to use the invention to enforce a new, iron-clad regime, turning Joseon into a nation ruled by clockwork.\n",
            "\n",
            "Jun-seo is forced to make a final, life-changing decision.  He must use his invention to either destroy Dae-hyun’s plans, risking chaos and bloodshed, or to negotiate with him, hoping to find a path toward a more balanced future.\n",
            "\n",
            "\n",
            "**Conclusion: **\n",
            "\n",
            "The fate of Joseon hinges on Jun-seo’s choices. Will he become the Clockwork Shogun, leading a nation into a brave new future, or will he become a pawn in Dae-hyun’s machinations, ushering in a reign of tyranny? The ending is up to the player, leaving a lasting impact on the game and its world. \n",
            "\n",
            "\n",
            "\n",
            "**Possible Endings:**\n",
            "\n",
            "\n",
            "* **Hopeful End:** Jun-seo chooses diplomacy, working with Lady Seon-mi to create a system where technology and tradition can coexist. He becomes a leader, ushering in an era of progress, innovation, while preserving the values of the past.  \n",
            "* **Tragic End:** Jun-seo, torn between his loyalties, makes the wrong choice.  The clockwork revolution explodes in chaos and bloodshed, destroying everything he believed in. \n",
            "\n",
            "\n",
            "The Clockwork Shogun’s narrative is a tapestry woven with themes of innovation, tradition, rebellion, and the consequences of unchecked ambition, all set against the backdrop of a dynamic world where steam meets clockwork and the past and the future collide. \n",
            "\n",
            "\n",
            "\n",
            "\n",
            "<end_of_turn>\n"
          ]
        }
      ],
      "source": [
        "chat.show_history()"
      ]
    },
    {
      "cell_type": "markdown",
      "metadata": {
        "id": "YYvLo-OLkj0g"
      },
      "source": [
        "## Clear History"
      ]
    },
    {
      "cell_type": "code",
      "execution_count": 14,
      "metadata": {
        "id": "ngWPjllXkljM"
      },
      "outputs": [],
      "source": [
        "chat.history.clear()"
      ]
    },
    {
      "cell_type": "markdown",
      "metadata": {
        "id": "O0fZNg2Eykbq"
      },
      "source": [
        "## Expansion Idea"
      ]
    },
    {
      "cell_type": "markdown",
      "metadata": {
        "id": "QP1zppatyosv"
      },
      "source": [
        "### Marketing Phrase"
      ]
    },
    {
      "cell_type": "code",
      "execution_count": 15,
      "metadata": {
        "id": "H2PcNCO_ytEP",
        "colab": {
          "base_uri": "https://localhost:8080/",
          "height": 470
        },
        "outputId": "cb8d674c-3228-4d6d-8753-5090d01a1606"
      },
      "outputs": [
        {
          "output_type": "execute_result",
          "data": {
            "text/plain": [
              "<IPython.core.display.Markdown object>"
            ],
            "text/markdown": "> Here are some marketing phrases for a new steam-powered toothbrush, playing on the unique benefits:\n> \n> **Short & punchy:**\n> \n> * **Steam Clean, Fresh Smile.**\n> * **The Power of Steam. The Feel of Clean.**\n> * **Unleash the Steam. Unleash Freshness.**\n> * **Next-Gen Clean: Steam Powered.**\n> \n> **Benefit-driven:**\n> \n> * **Steam's Gentle Touch, Deep Clean.** (Emphasizes gentleness while maintaining deep cleaning)\n> * **Beyond Traditional: The Steam-Powered Difference.** (Highlights the unique technology)\n> * **Say Goodbye to Tartar, Hello to Steam Clean.** (Focuses on a specific benefit)\n> * **Experience the Future of Oral Hygiene with Steampower.**\n> \n> **Intriguing/Playful:**\n> \n> * **The Steaming Hot Clean You Crave.** (Playful and intriguing)\n> * **Get Ready to Experience Oral Steam.** (Intriguing and memorable)\n> * **Revolutionize Your Smile with Steampower.** (Bold claim, emphasizes a revolution)\n> \n> **For targeting specific needs:**\n> \n> * **Sensitive Teeth? Steam's the Solution.** (Targets specific needs)\n> * **Gum Health? Steam's Here to Help.** (Focuses on specific benefits)\n> \n> \n> **Remember to consider your target market, brand personality, and the key selling points of your product when choosing the best marketing phrase.** \n> \n> \n> Let me know if you'd like me to explore any of these further!  \n> <end_of_turn>"
          },
          "metadata": {},
          "execution_count": 15
        }
      ],
      "source": [
        "chat.history.clear()\n",
        "pitch = \"A new steam-powered toothbrush\"\n",
        "result = chat.send_message(\n",
        "    f\"Generate a marketing phrase for the new product below.\\n{pitch}\"\n",
        ")\n",
        "to_markdown(result)"
      ]
    },
    {
      "cell_type": "markdown",
      "metadata": {
        "id": "oJbiCXoszJVN"
      },
      "source": [
        "### Florist Ideas"
      ]
    },
    {
      "cell_type": "code",
      "execution_count": 16,
      "metadata": {
        "id": "BKXXigmxzZp_",
        "colab": {
          "base_uri": "https://localhost:8080/",
          "height": 591
        },
        "outputId": "86ef40f1-674d-4dea-f824-ea03eab37bd5"
      },
      "outputs": [
        {
          "output_type": "execute_result",
          "data": {
            "text/plain": [
              "<IPython.core.display.Markdown object>"
            ],
            "text/markdown": "> Here's a floristry concept and flower suggestions inspired by the universe and shooting stars:\n> \n> **Concept:  \"Cosmic Bloom\"**\n> \n> **The Vision:** \n> A shop that evokes the wonder of space exploration and the magic of celestial events, using vibrant colors, unusual textures, and unexpected combinations of flowers. \n> \n> **Decor and Ambience:**\n> * **Dark blue and black accents:** Create a deep, starry atmosphere.\n> * **Twinkling lights:** Fairy lights, LED spotlights, or even glow sticks can mimic constellations. \n> * **Metallic accents:**  Think silver, gold, and bronze to add a touch of space technology.\n> * **Star-shaped displays:**  Use wire, cardboard, or even repurposed metal objects to create whimsical star displays within the shop.\n> * **Celestial maps and charts:**  Hang framed maps of constellations or celestial bodies to add depth and intrigue.\n> * **Sound:**  Play ambient space sounds (like the Hubble telescope's sounds or a space-themed ambient soundtrack) to enhance the immersive effect.\n> \n> **Flower Choices:**\n> \n> * **Dark-toned blooms:** Black calla lilies, burgundy lisianthus, deep purple hydrangeas.\n> * **Metallic hues:** Silver spray roses, gold ranunculuses, copper spray chrysanthemums.\n> * **Unusual textures:**  Think velvet calla lilies, textured ferns, or branches with metallic accents.\n> * **Star-shaped flowers:**  Consider cosmos, carnations, or even succulents with star-shaped leaves.\n> * **Space-themed arrangements:**  \n>     * **Galaxy Bouquet:**  Combine deep blues, purples, and silvers with star-shaped accents.\n>     * **Shooting Star Garland:**  Use long-stemmed flowers like orchids or calla lilies, accented with small star-shaped ornaments or glitter.\n>     * **Moonlit Bloom:** A white floral arrangement with touches of silver spray roses and moon-shaped candles.\n> \n> \n> **Additional Ideas:**\n> \n> * **Workshops:** Host workshops teaching people how to create space-themed bouquets or floral arrangements with celestial accents.\n> * **Special events:**  Host \"cosmic parties\" or themed events with celestial decorations and cocktails inspired by planets and stars.\n> * **Gift wrapping:**  Offer wrapping with celestial patterns, metallic accents, and star-shaped stickers.\n> * **Personalized gifts:**  Create personalized flower arrangements with messages about wishes and dreams written on small cards.\n> * **Partnerships:** Collaborate with local astronomy societies or space museums to offer exclusive events or workshops.\n> \n> By embracing a sense of wonder, creativity, and imagination, \"Cosmic Bloom\" can offer a unique and unforgettable florist experience for customers. \n> \n> \n> <end_of_turn>"
          },
          "metadata": {},
          "execution_count": 16
        }
      ],
      "source": [
        "chat.history.clear()\n",
        "pitch = \"Universe and shooting stars\"\n",
        "result = chat.send_message(\n",
        "    f\"Generate a florist idea inspired by the concept below, along with suggestions for suitable flowers.\\n{pitch}\"\n",
        ")\n",
        "to_markdown(result)"
      ]
    },
    {
      "cell_type": "markdown",
      "metadata": {
        "id": "jsNqqjZwziHi"
      },
      "source": [
        "### Food Recipe"
      ]
    },
    {
      "cell_type": "code",
      "execution_count": 17,
      "metadata": {
        "id": "FbXyDjkfznJ_",
        "colab": {
          "base_uri": "https://localhost:8080/",
          "height": 834
        },
        "outputId": "4f85bce5-6941-4d42-b349-38f17dbbf6b0"
      },
      "outputs": [
        {
          "output_type": "execute_result",
          "data": {
            "text/plain": [
              "<IPython.core.display.Markdown object>"
            ],
            "text/markdown": "> ## Cyberpunk Kraken: Spiced & Seared Kraken Tentacle Tacos\n> \n> This recipe takes the bold flavor of the cyberpunk underworld and brings it to your kitchen with a delicious twist. \n> \n> **Concept:**\n> \n> * **Cyberpunk:**  Dark and savory, with a hint of futuristic flair.\n> * **Kraken:** A mythical, monstrous, yet oddly appealing ingredient.\n> * **Tentacles:**  Representing the \"technology\" of the cyberpunk world.\n> \n> **Ingredients:**\n> \n> * **For the Kraken:**\n>     * 1 large, firm octopus (or substitute with firm squid or calamari) \n>     * 1 tbsp olive oil\n>     * 1 tbsp soy sauce\n>     * 1 tsp smoked paprika\n>     * 1/2 tsp black pepper\n>     * 1/4 tsp chili flakes\n>     * 1/4 cup chopped scallions\n>     * 1/4 cup chopped cilantro\n> \n> * **For the Tacos:**\n>     * 12-16 corn tortillas\n>     * 1/4 cup finely chopped red onions\n>     * 1/2 cup crumbled vegan chorizo (or ground meat)\n>     * 1/4 cup chopped cilantro\n>     * 1/4 cup chopped red cabbage\n>     * 1/4 cup chopped cherry tomatoes\n>     * 1 Lime, cut into wedges\n> \n>  **Instructions:**\n> \n> 1. **Prep the Kraken:** Clean and de-head the octopus or squid. Cut into 1-inch chunks and toss with olive oil, soy sauce, paprika, pepper, chili flakes, scallions, and cilantro. \n> 2. **Searing:** Preheat a large skillet over medium-high heat. Sear the kraken chunks on all sides until browned, about 4-5 minutes per side.\n> 3. **Cook the Tacos:**  While the kraken cooks, warm the tortillas in the same skillet. \n> 4. **Assemble:** Divide the cooked kraken chunks onto the warm tortillas. Top with the onions, chorizo, slaw, tomatoes, and cilantro. Squeeze fresh lime juice over everything.\n> \n> **Cyberpunk Flair:**\n> \n> * **Presentation:** Serve in sleek black bowls, garnished with glowing neon salt crystals.\n> * **Sauce:** Offer a spicy sriracha-based \"cyber sauce\" for those who like a kick. \n> * **Decor:** Use black edible ink to write \"Kraken\" on the tacos or create a cyberpunk cityscape scene on a plate.\n> * **Music:** Blast some industrial metal while you prepare your Cyber-Kraken meal. \n> \n> **Enjoy this bold, futuristic twist on a classic taco.**\n> \n> \n> **Note:** This recipe can be easily adapted to suit your dietary needs and preferences. You can substitute meat with vegetarian options or use different types of seafood.  \n> <end_of_turn>"
          },
          "metadata": {},
          "execution_count": 17
        }
      ],
      "source": [
        "chat.history.clear()\n",
        "pitch = \"Cyberpunk Kraken\"\n",
        "result = chat.send_message(\n",
        "    f\"Generate a cooking recipe with the concept below.\\n{pitch}\"\n",
        ")\n",
        "to_markdown(result)"
      ]
    }
  ],
  "metadata": {
    "accelerator": "GPU",
    "colab": {
      "name": "[Gemma_2]Game_Design_Brainstorming.ipynb",
      "provenance": []
    },
    "kernelspec": {
      "display_name": "Python 3",
      "name": "python3"
    }
  },
  "nbformat": 4,
  "nbformat_minor": 0
}